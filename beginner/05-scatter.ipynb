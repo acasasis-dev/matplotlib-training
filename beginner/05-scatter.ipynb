{
 "cells": [
  {
   "cell_type": "markdown",
   "id": "8150d431",
   "metadata": {},
   "source": [
    "# Notebook 5 — Scatter Plots"
   ]
  },
  {
   "cell_type": "code",
   "execution_count": null,
   "id": "0d9c5437",
   "metadata": {},
   "outputs": [],
   "source": [
    "import matplotlib.pyplot as plt\n",
    "import numpy as np"
   ]
  },
  {
   "cell_type": "markdown",
   "id": "3ed856bf",
   "metadata": {},
   "source": [
    "## Basic Scatter Plot"
   ]
  },
  {
   "cell_type": "code",
   "execution_count": null,
   "id": "c829978a",
   "metadata": {},
   "outputs": [],
   "source": [
    "x = np.random.rand(50)\n",
    "y = np.random.rand(50)\n",
    "plt.scatter(x, y)\n",
    "plt.show()"
   ]
  },
  {
   "cell_type": "markdown",
   "id": "e74b1942",
   "metadata": {},
   "source": [
    "## Exercises\n",
    "1. Create a scatter plot of 50 random points in 2D.\n",
    "2. Use different marker sizes for each point.\n",
    "3. Color the points based on their x-value."
   ]
  }
 ],
 "metadata": {},
 "nbformat": 4,
 "nbformat_minor": 5
}
