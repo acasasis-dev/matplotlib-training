{
 "cells": [
  {
   "cell_type": "markdown",
   "id": "ddbfeb8b",
   "metadata": {},
   "source": [
    "# Notebook 4 — Bar Charts and Histograms"
   ]
  },
  {
   "cell_type": "code",
   "execution_count": null,
   "id": "9869271c",
   "metadata": {},
   "outputs": [],
   "source": [
    "import matplotlib.pyplot as plt\n",
    "import numpy as np"
   ]
  },
  {
   "cell_type": "markdown",
   "id": "3c9b8f04",
   "metadata": {},
   "source": [
    "## Bar Chart"
   ]
  },
  {
   "cell_type": "code",
   "execution_count": null,
   "id": "556058a5",
   "metadata": {},
   "outputs": [],
   "source": [
    "categories = ['A', 'B', 'C']\n",
    "values = [5, 7, 3]\n",
    "plt.bar(categories, values)\n",
    "plt.show()"
   ]
  },
  {
   "cell_type": "markdown",
   "id": "7ad1e05b",
   "metadata": {},
   "source": [
    "## Histogram"
   ]
  },
  {
   "cell_type": "code",
   "execution_count": null,
   "id": "fdeee359",
   "metadata": {},
   "outputs": [],
   "source": [
    "data = np.random.randint(1, 100, 50)\n",
    "plt.hist(data, bins=10)\n",
    "plt.show()"
   ]
  },
  {
   "cell_type": "markdown",
   "id": "20b994ec",
   "metadata": {},
   "source": [
    "## Exercises\n",
    "1. Create a bar chart of sales for 5 products.\n",
    "2. Create a horizontal bar chart of student scores.\n",
    "3. Create a histogram of 50 random numbers between 1 and 100."
   ]
  }
 ],
 "metadata": {},
 "nbformat": 4,
 "nbformat_minor": 5
}
