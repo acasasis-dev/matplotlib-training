{
 "cells": [
  {
   "cell_type": "markdown",
   "id": "f4043da6",
   "metadata": {},
   "source": [
    "# Notebook 3 — Multiple Plots and Subplots"
   ]
  },
  {
   "cell_type": "code",
   "execution_count": null,
   "id": "af98188b",
   "metadata": {},
   "outputs": [],
   "source": [
    "import matplotlib.pyplot as plt\n",
    "import numpy as np"
   ]
  },
  {
   "cell_type": "markdown",
   "id": "dbf20f67",
   "metadata": {},
   "source": [
    "## Multiple Lines in One Plot"
   ]
  },
  {
   "cell_type": "code",
   "execution_count": null,
   "id": "2375f219",
   "metadata": {},
   "outputs": [],
   "source": [
    "x = np.linspace(0, 5, 50)\n",
    "plt.plot(x, x, label='y = x')\n",
    "plt.plot(x, x**2, label='y = x^2')\n",
    "plt.legend()\n",
    "plt.show()"
   ]
  },
  {
   "cell_type": "markdown",
   "id": "cc2421b3",
   "metadata": {},
   "source": [
    "## Creating Subplots"
   ]
  },
  {
   "cell_type": "code",
   "execution_count": null,
   "id": "fd64be73",
   "metadata": {},
   "outputs": [],
   "source": [
    "fig, axs = plt.subplots(2, 2)\n",
    "axs[0,0].plot(x, x)\n",
    "axs[0,1].plot(x, x**2)\n",
    "axs[1,0].plot(x, x**3)\n",
    "axs[1,1].plot(x, np.sqrt(x))\n",
    "plt.tight_layout()\n",
    "plt.show()"
   ]
  },
  {
   "cell_type": "markdown",
   "id": "f92bcac0",
   "metadata": {},
   "source": [
    "## Exercises\n",
    "1. Create one figure with 4 subplots showing y = x, y = x², y = x³, and y = √x.\n",
    "2. Add titles to each subplot.\n",
    "3. Ensure layout is neat using plt.tight_layout()."
   ]
  }
 ],
 "metadata": {},
 "nbformat": 4,
 "nbformat_minor": 5
}
