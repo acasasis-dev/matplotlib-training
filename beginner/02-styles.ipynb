{
 "cells": [
  {
   "cell_type": "markdown",
   "id": "0601abf0",
   "metadata": {},
   "source": [
    "# Notebook 2 — Markers, Lines, and Colors"
   ]
  },
  {
   "cell_type": "code",
   "execution_count": null,
   "id": "14305b2f",
   "metadata": {},
   "outputs": [],
   "source": [
    "import matplotlib.pyplot as plt\n",
    "import numpy as np"
   ]
  },
  {
   "cell_type": "markdown",
   "id": "6dcdda5c",
   "metadata": {},
   "source": [
    "## Changing Line Styles"
   ]
  },
  {
   "cell_type": "code",
   "execution_count": null,
   "id": "80d48c13",
   "metadata": {},
   "outputs": [],
   "source": [
    "x = np.linspace(0, 10, 100)\n",
    "y = np.sin(x)\n",
    "plt.plot(x, y, linestyle='--')\n",
    "plt.show()"
   ]
  },
  {
   "cell_type": "markdown",
   "id": "1cef6916",
   "metadata": {},
   "source": [
    "## Adding Markers"
   ]
  },
  {
   "cell_type": "code",
   "execution_count": null,
   "id": "eeb8f750",
   "metadata": {},
   "outputs": [],
   "source": [
    "plt.plot(x, y, marker='o')\n",
    "plt.show()"
   ]
  },
  {
   "cell_type": "markdown",
   "id": "1e926cfb",
   "metadata": {},
   "source": [
    "## Custom Colors"
   ]
  },
  {
   "cell_type": "code",
   "execution_count": null,
   "id": "cfff18d8",
   "metadata": {},
   "outputs": [],
   "source": [
    "plt.plot(x, y, color='#FF5733')\n",
    "plt.show()"
   ]
  },
  {
   "cell_type": "markdown",
   "id": "4a4d62e5",
   "metadata": {},
   "source": [
    "## Exercises\n",
    "1. Plot y = sin(x) from 0 to 2π with red circle markers.\n",
    "2. Plot y = cos(x) with a dashed blue line.\n",
    "3. Plot both functions on the same graph with a legend."
   ]
  }
 ],
 "metadata": {},
 "nbformat": 4,
 "nbformat_minor": 5
}
