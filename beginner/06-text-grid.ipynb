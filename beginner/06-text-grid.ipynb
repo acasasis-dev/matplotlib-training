{
 "cells": [
  {
   "cell_type": "markdown",
   "id": "391121e0",
   "metadata": {},
   "source": [
    "# Notebook 6 — Text, Annotations, and Grids"
   ]
  },
  {
   "cell_type": "code",
   "execution_count": null,
   "id": "90fe4c7c",
   "metadata": {},
   "outputs": [],
   "source": [
    "import matplotlib.pyplot as plt\n",
    "import numpy as np"
   ]
  },
  {
   "cell_type": "markdown",
   "id": "78cba5fd",
   "metadata": {},
   "source": [
    "## Adding Text and Annotations"
   ]
  },
  {
   "cell_type": "code",
   "execution_count": null,
   "id": "b13c9ece",
   "metadata": {},
   "outputs": [],
   "source": [
    "x = np.linspace(0, 10, 100)\n",
    "y = np.sin(x)\n",
    "plt.plot(x, y)\n",
    "plt.text(2, 0.5, 'Hello')\n",
    "plt.annotate('Max Point', xy=(np.pi/2, 1), xytext=(2, 1.5), arrowprops=dict(facecolor='black'))\n",
    "plt.show()"
   ]
  },
  {
   "cell_type": "markdown",
   "id": "76807009",
   "metadata": {},
   "source": [
    "## Exercises\n",
    "1. Annotate the maximum point in y = sin(x).\n",
    "2. Add a grid to a plot of y = cos(x).\n",
    "3. Mark a special point (2, 4) on a y = x² plot."
   ]
  }
 ],
 "metadata": {},
 "nbformat": 4,
 "nbformat_minor": 5
}
