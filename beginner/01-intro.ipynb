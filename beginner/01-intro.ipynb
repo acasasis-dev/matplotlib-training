{
 "cells": [
  {
   "cell_type": "markdown",
   "id": "fb98f2bc",
   "metadata": {},
   "source": [
    "# Notebook 1 — Introduction to Matplotlib\n",
    "Learn the basics of Matplotlib: plotting, labeling, and saving."
   ]
  },
  {
   "cell_type": "markdown",
   "id": "e8bfe143",
   "metadata": {},
   "source": [
    "## Installing and Importing Matplotlib"
   ]
  },
  {
   "cell_type": "code",
   "execution_count": null,
   "id": "011436ad",
   "metadata": {},
   "outputs": [],
   "source": [
    "!pip install matplotlib"
   ]
  },
  {
   "cell_type": "code",
   "execution_count": null,
   "id": "ca744da9",
   "metadata": {},
   "outputs": [],
   "source": [
    "import matplotlib.pyplot as plt\n",
    "import numpy as np"
   ]
  },
  {
   "cell_type": "markdown",
   "id": "dc018a29",
   "metadata": {},
   "source": [
    "## Your First Line Plot"
   ]
  },
  {
   "cell_type": "code",
   "execution_count": null,
   "id": "8e812603",
   "metadata": {},
   "outputs": [],
   "source": [
    "x = [1, 2, 3, 4]\n",
    "y = [1, 4, 9, 16]\n",
    "plt.plot(x, y)\n",
    "plt.show()"
   ]
  },
  {
   "cell_type": "markdown",
   "id": "7d61fa1e",
   "metadata": {},
   "source": [
    "## Customizing Colors and Styles"
   ]
  },
  {
   "cell_type": "code",
   "execution_count": null,
   "id": "8d4daa4e",
   "metadata": {},
   "outputs": [],
   "source": [
    "plt.plot(x, y, 'ro')  # red circles\n",
    "plt.show()"
   ]
  },
  {
   "cell_type": "markdown",
   "id": "29cbdad4",
   "metadata": {},
   "source": [
    "## Adding Titles and Labels"
   ]
  },
  {
   "cell_type": "code",
   "execution_count": null,
   "id": "c3b80a68",
   "metadata": {},
   "outputs": [],
   "source": [
    "plt.plot(x, y)\n",
    "plt.title('My First Plot')\n",
    "plt.xlabel('X-axis')\n",
    "plt.ylabel('Y-axis')\n",
    "plt.show()"
   ]
  },
  {
   "cell_type": "markdown",
   "id": "31db8fa4",
   "metadata": {},
   "source": [
    "## Saving the Plot"
   ]
  },
  {
   "cell_type": "code",
   "execution_count": null,
   "id": "60a7c99f",
   "metadata": {},
   "outputs": [],
   "source": [
    "plt.plot(x, y)\n",
    "plt.savefig('myplot.png')"
   ]
  },
  {
   "cell_type": "markdown",
   "id": "845df08f",
   "metadata": {},
   "source": [
    "## Exercises (Do NOT reveal answers)\n",
    "1. Plot a line for y = 2x + 3 for x from 0 to 10.\n",
    "2. Plot two lines (y = x and y = x²) in one graph with different colors and labels.\n",
    "3. Save one of your plots as myplot.png."
   ]
  }
 ],
 "metadata": {},
 "nbformat": 4,
 "nbformat_minor": 5
}
